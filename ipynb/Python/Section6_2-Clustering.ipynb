{
 "metadata": {
  "name": ""
 },
 "nbformat": 3,
 "nbformat_minor": 0,
 "worksheets": [
  {
   "cells": [
    {
     "cell_type": "markdown",
     "metadata": {},
     "source": [
      "## Unsupvervised Learning\n",
      "\n",
      "Clustering is a class of unsupervised learning methods that associates observations according to some specified measure of similarity (e.g. Euclidean distance)."
     ]
    },
    {
     "cell_type": "markdown",
     "metadata": {},
     "source": [
      "## K-means Algorithm\n",
      "\n",
      "The K-means clustering algorithm associates each point $x_i$ in a set of input points $\\{x_1, x_2, \\ldots, x_m\\}$ to $K$ clusters. Each cluster is specified by a **centroid** that is the average location of all the points in the cluster. The algorithm proceeds iteratively from arbitrary centroid locations, updating the membership of each point according to minimum distance, then updating the centroid location based on the new cluster membership. \n",
      "\n",
      "In this sense, it is similar to the expectation maximization (EM) algorithm. Recall that in EM we iteratively assigned labels to observations, according to which mixture component they were most likely to have been derived from. K-means is simpler, in that we just use the minimum distance to assign membership.\n",
      "\n",
      "The algorithm will have converged when the assignment of points to centroids does not change with each iteration."
     ]
    },
    {
     "cell_type": "markdown",
     "metadata": {},
     "source": [
      "### Algorithm\n",
      "\n",
      "1. Initialize cluster centroids:\n",
      "\n",
      "    $$\\mu^{(0)}_1, \\ldots, \\mu^{(0)}_k \\in \\mathbb{R}^n$$\n",
      "\n",
      "2. Iterate until converged:\n",
      "\n",
      "    a. Set $c_i = \\text{argmin}_j || x_i - \\mu_j^{(s)} ||$\n",
      "    \n",
      "    b. Update centroids:\n",
      "    \n",
      "    $$\\mu_j^{(s+1)} = \\frac{\\sum_{i=1}^m I[c_i = j] x_i}{\\sum_{i=1}^m I[c_i = j]}$$"
     ]
    },
    {
     "cell_type": "markdown",
     "metadata": {},
     "source": [
      "The K-means algorithm is simply a Gaussian mixture model with two restrictions: \n",
      "\n",
      "1. the covariance matrix is spherical: \n",
      "\n",
      "    $$\\Sigma_k = \\sigma I_D$$\n",
      "\n",
      "2. the mixture weights are fixed:\n",
      "\n",
      "    $$\\pi_k = \\frac{1}{K}$$\n",
      "\n",
      "Hence, we are only interested in locating the appropriate centroid of the clusters. This serves to speed computation."
     ]
    },
    {
     "cell_type": "markdown",
     "metadata": {},
     "source": [
      "We can define the distortion function:\n",
      "\n",
      "$$J(c,\\mu) = \\sum_{i]1}^m ||x_i - \\mu_{c_i}||$$\n",
      "\n",
      "which gets smaller at every iteration. So, k-means is coordinate ascent on $J(c,\\mu)$"
     ]
    },
    {
     "cell_type": "markdown",
     "metadata": {},
     "source": [
      "### Choosing $k$\n",
      "\n",
      "To check whethere a chosen $k$ is reasonable, one approach is to compare the distances between the centroids to the mean distance bewween each data point and their assigned centroid. A good fit involves relatively large inter-centroid distances. \n",
      "\n",
      "The appropriate value for k (the number of clusters) may depend on the goals of the analysis, or it may be chosen algorithmically, using an optimization procedure."
     ]
    },
    {
     "cell_type": "markdown",
     "metadata": {},
     "source": [
      "## Example: clustering random points"
     ]
    },
    {
     "cell_type": "code",
     "collapsed": false,
     "input": [
      "import numpy as np\n",
      "\n",
      "x, y = np.random.uniform(0, 10, 50).reshape(2, 25)\n",
      "plt.scatter(x, y)"
     ],
     "language": "python",
     "metadata": {},
     "outputs": [
      {
       "metadata": {},
       "output_type": "pyout",
       "prompt_number": 1,
       "text": [
        "<matplotlib.collections.PathCollection at 0x105055350>"
       ]
      },
      {
       "metadata": {},
       "output_type": "display_data",
       "png": "[encoded data removed]",
       "text": [
        "<matplotlib.figure.Figure at 0x104be2610>"
       ]
      }
     ],
     "prompt_number": 1
    },
    {
     "cell_type": "markdown",
     "metadata": {},
     "source": [
      "Let's start with $k=4$, arbitrarily assigned:"
     ]
    },
    {
     "cell_type": "code",
     "collapsed": false,
     "input": [
      "centroids = (3, 3), (3, 7), (7, 3), (7, 7)"
     ],
     "language": "python",
     "metadata": {},
     "outputs": [],
     "prompt_number": 2
    },
    {
     "cell_type": "code",
     "collapsed": false,
     "input": [
      "np.transpose(centroids)"
     ],
     "language": "python",
     "metadata": {},
     "outputs": [
      {
       "metadata": {},
       "output_type": "pyout",
       "prompt_number": 3,
       "text": [
        "array([[3, 3, 7, 7],\n",
        "       [3, 7, 3, 7]])"
       ]
      }
     ],
     "prompt_number": 3
    },
    {
     "cell_type": "code",
     "collapsed": false,
     "input": [
      "plt.scatter(x, y)\n",
      "plt.scatter(*np.transpose(centroids), c='r', marker='+', s=100)"
     ],
     "language": "python",
     "metadata": {},
     "outputs": [
      {
       "metadata": {},
       "output_type": "pyout",
       "prompt_number": 4,
       "text": [
        "<matplotlib.collections.PathCollection at 0x105063e50>"
       ]
      },
      {
       "metadata": {},
       "output_type": "display_data",
       "png": "[encoded data removed]",
       "text": [
        "<matplotlib.figure.Figure at 0x105063310>"
       ]
      }
     ],
     "prompt_number": 4
    },
    {
     "cell_type": "markdown",
     "metadata": {},
     "source": [
      "We can use the function `cdist` from SciPy to calculate the distances from each point to each centroid."
     ]
    },
    {
     "cell_type": "code",
     "collapsed": false,
     "input": [
      "from scipy.spatial.distance import cdist\n",
      "\n",
      "distances = cdist(centroids, zip(x,y))\n",
      "distances.shape"
     ],
     "language": "python",
     "metadata": {},
     "outputs": [
      {
       "metadata": {},
       "output_type": "pyout",
       "prompt_number": 5,
       "text": [
        "(4, 25)"
       ]
      }
     ],
     "prompt_number": 5
    },
    {
     "cell_type": "markdown",
     "metadata": {},
     "source": [
      "We can make the initial assignment to centroids by picking the minimum distance."
     ]
    },
    {
     "cell_type": "code",
     "collapsed": false,
     "input": [
      "labels = distances.argmin(axis=0)\n",
      "labels"
     ],
     "language": "python",
     "metadata": {},
     "outputs": [
      {
       "metadata": {},
       "output_type": "pyout",
       "prompt_number": 6,
       "text": [
        "array([2, 1, 0, 3, 0, 0, 0, 3, 0, 3, 3, 3, 1, 1, 1, 0, 1, 3, 0, 0, 3, 0, 2,\n",
        "       0, 2])"
       ]
      }
     ],
     "prompt_number": 6
    },
    {
     "cell_type": "code",
     "collapsed": false,
     "input": [
      "plt.scatter(x, y, c=labels)\n",
      "plt.scatter(*np.transpose(centroids), c='r', marker='+', s=100)"
     ],
     "language": "python",
     "metadata": {},
     "outputs": [
      {
       "metadata": {},
       "output_type": "pyout",
       "prompt_number": 7,
       "text": [
        "<matplotlib.collections.PathCollection at 0x1050efbd0>"
       ]
      },
      {
       "metadata": {},
       "output_type": "display_data",
       "png": "[encoded data removed]",
       "text": [
        "<matplotlib.figure.Figure at 0x1059a89d0>"
       ]
      }
     ],
     "prompt_number": 7
    },
    {
     "cell_type": "markdown",
     "metadata": {},
     "source": [
      "Now we can re-assign the centroid locations based on the means of the current members' locations."
     ]
    },
    {
     "cell_type": "code",
     "collapsed": false,
     "input": [
      "new_centroids = [(x[labels==i].mean(), y[labels==i].mean())\n",
      "                 for i in range(len(centroids))]"
     ],
     "language": "python",
     "metadata": {},
     "outputs": [],
     "prompt_number": 8
    },
    {
     "cell_type": "code",
     "collapsed": false,
     "input": [
      "plt.scatter(x, y, c=labels)\n",
      "plt.scatter(*np.transpose(new_centroids), c='r', marker='+', s=100)"
     ],
     "language": "python",
     "metadata": {},
     "outputs": [
      {
       "metadata": {},
       "output_type": "pyout",
       "prompt_number": 9,
       "text": [
        "<matplotlib.collections.PathCollection at 0x1059e0c90>"
       ]
      },
      {
       "metadata": {},
       "output_type": "display_data",
       "png": "[encoded data removed]",
       "text": [
        "<matplotlib.figure.Figure at 0x1059e0a50>"
       ]
      }
     ],
     "prompt_number": 9
    },
    {
     "cell_type": "markdown",
     "metadata": {},
     "source": [
      "So, we simply iterate these steps until convergence."
     ]
    },
    {
     "cell_type": "code",
     "collapsed": false,
     "input": [
      "centroids = new_centroids\n",
      "iterations = 20\n",
      "\n",
      "for _ in range(iterations):\n",
      "    distances = cdist(centroids, zip(x,y))\n",
      "    labels = distances.argmin(axis=0)\n",
      "    centroids = [(x[labels==i].mean(), y[labels==i].mean())\n",
      "                 for i in range(len(centroids))]"
     ],
     "language": "python",
     "metadata": {},
     "outputs": [],
     "prompt_number": 10
    },
    {
     "cell_type": "code",
     "collapsed": false,
     "input": [
      "plt.scatter(x, y, c=labels)\n",
      "plt.scatter(*np.transpose(centroids), c='r', marker='+', s=100)"
     ],
     "language": "python",
     "metadata": {},
     "outputs": [
      {
       "metadata": {},
       "output_type": "pyout",
       "prompt_number": 11,
       "text": [
        "<matplotlib.collections.PathCollection at 0x1059f73d0>"
       ]
      },
      {
       "metadata": {},
       "output_type": "display_data",
       "png": "[encoded data removed]",
       "text": [
        "<matplotlib.figure.Figure at 0x1059f7050>"
       ]
      }
     ],
     "prompt_number": 11
    },
    {
     "cell_type": "markdown",
     "metadata": {},
     "source": [
      "## k-means using `scikit-learn`\n",
      "\n",
      "The `scikit-learn` package includes a `KMeans` class for flexibly fitting K-means models. It includes additional features, such as initialization options and the ability to set the convergence tolerance."
     ]
    },
    {
     "cell_type": "code",
     "collapsed": false,
     "input": [
      "from sklearn.cluster import KMeans\n",
      "from numpy.random import RandomState\n",
      "rng = RandomState(1)\n",
      "\n",
      "# Instantiate model\n",
      "kmeans = KMeans(n_clusters=4, random_state=rng)\n",
      "# Fit model\n",
      "kmeans.fit(np.transpose((x,y)))"
     ],
     "language": "python",
     "metadata": {},
     "outputs": [
      {
       "metadata": {},
       "output_type": "pyout",
       "prompt_number": 12,
       "text": [
        "KMeans(copy_x=True, init='k-means++', max_iter=300, n_clusters=4, n_init=10,\n",
        "    n_jobs=1, precompute_distances=True,\n",
        "    random_state=<mtrand.RandomState object at 0x103e5e9a8>, tol=0.0001,\n",
        "    verbose=0)"
       ]
      }
     ],
     "prompt_number": 12
    },
    {
     "cell_type": "markdown",
     "metadata": {},
     "source": [
      "After fitting, we can retrieve the labels and cluster centers."
     ]
    },
    {
     "cell_type": "code",
     "collapsed": false,
     "input": [
      "kmeans.labels_"
     ],
     "language": "python",
     "metadata": {},
     "outputs": [
      {
       "metadata": {},
       "output_type": "pyout",
       "prompt_number": 13,
       "text": [
        "array([0, 0, 3, 1, 3, 0, 3, 1, 3, 0, 0, 1, 0, 0, 2, 3, 2, 1, 3, 3, 1, 3, 0,\n",
        "       3, 0], dtype=int32)"
       ]
      }
     ],
     "prompt_number": 13
    },
    {
     "cell_type": "code",
     "collapsed": false,
     "input": [
      "kmeans.cluster_centers_"
     ],
     "language": "python",
     "metadata": {},
     "outputs": [
      {
       "metadata": {},
       "output_type": "pyout",
       "prompt_number": 14,
       "text": [
        "array([[ 5.33589505,  5.25506319],\n",
        "       [ 7.32793323,  8.61993996],\n",
        "       [ 0.57625225,  9.60811507],\n",
        "       [ 2.8849704 ,  2.44602846]])"
       ]
      }
     ],
     "prompt_number": 14
    },
    {
     "cell_type": "markdown",
     "metadata": {},
     "source": [
      "The resulting plot should look very similar to the one we fit by hand."
     ]
    },
    {
     "cell_type": "code",
     "collapsed": false,
     "input": [
      "plt.scatter(x, y, c=kmeans.labels_)\n",
      "plt.scatter(*kmeans.cluster_centers_.T, c='r', marker='+', s=100)"
     ],
     "language": "python",
     "metadata": {},
     "outputs": [
      {
       "metadata": {},
       "output_type": "pyout",
       "prompt_number": 15,
       "text": [
        "<matplotlib.collections.PathCollection at 0x106bf17d0>"
       ]
      },
      {
       "metadata": {},
       "output_type": "display_data",
       "png": "[encoded data removed]",
       "text": [
        "<matplotlib.figure.Figure at 0x106b95b10>"
       ]
      }
     ],
     "prompt_number": 15
    },
    {
     "cell_type": "markdown",
     "metadata": {},
     "source": [
      "## Example: Microbiome data\n",
      "\n",
      "The `microbiome.csv` dataset contains counts of various microbe taxa extraced from either tissue or stool samples of NICU infants. It may be of interest"
     ]
    },
    {
     "cell_type": "code",
     "collapsed": false,
     "input": [
      "import pandas as pd\n",
      "\n",
      "microbiome = pd.read_csv(\"../data/microbiome.csv\")"
     ],
     "language": "python",
     "metadata": {},
     "outputs": [],
     "prompt_number": 16
    },
    {
     "cell_type": "code",
     "collapsed": false,
     "input": [
      "microbiome_pivoted = microbiome.drop('Group', axis=1).pivot(index='Patient', \n",
      "                        columns='Taxon').stack(level=0).reset_index()\n",
      "microbiome_data = microbiome_pivoted.drop('Patient', \n",
      "                        axis=1).rename(columns={'level_1':'Location'}\n",
      "                                       ).replace({'Tissue': 0 , 'Stool':1})\n",
      "\n",
      "y = microbiome_data.values[:, 0]\n",
      "X = microbiome_data.values[:, 1:]"
     ],
     "language": "python",
     "metadata": {},
     "outputs": [],
     "prompt_number": 18
    },
    {
     "cell_type": "code",
     "collapsed": false,
     "input": [
      "microbiome_data.head()"
     ],
     "language": "python",
     "metadata": {},
     "outputs": [
      {
       "html": [
        "<div style=\"max-height:1000px;max-width:1500px;overflow:auto;\">\n",
        "<table border=\"1\" class=\"dataframe\">\n",
        "  <thead>\n",
        "    <tr style=\"text-align: right;\">\n",
        "      <th>Taxon</th>\n",
        "      <th>Location</th>\n",
        "      <th>Actinobacteria</th>\n",
        "      <th>Bacteroidetes</th>\n",
        "      <th>Firmicutes</th>\n",
        "      <th>Other</th>\n",
        "      <th>Proteobacteria</th>\n",
        "    </tr>\n",
        "  </thead>\n",
        "  <tbody>\n",
        "    <tr>\n",
        "      <th>0</th>\n",
        "      <td> 0</td>\n",
        "      <td> 1590</td>\n",
        "      <td> 67</td>\n",
        "      <td>  136</td>\n",
        "      <td> 195</td>\n",
        "      <td> 2469</td>\n",
        "    </tr>\n",
        "    <tr>\n",
        "      <th>1</th>\n",
        "      <td> 1</td>\n",
        "      <td>    4</td>\n",
        "      <td>  0</td>\n",
        "      <td> 4182</td>\n",
        "      <td>  18</td>\n",
        "      <td> 1821</td>\n",
        "    </tr>\n",
        "    <tr>\n",
        "      <th>2</th>\n",
        "      <td> 0</td>\n",
        "      <td>   25</td>\n",
        "      <td>  0</td>\n",
        "      <td> 1174</td>\n",
        "      <td>  42</td>\n",
        "      <td>  839</td>\n",
        "    </tr>\n",
        "    <tr>\n",
        "      <th>3</th>\n",
        "      <td> 1</td>\n",
        "      <td>    2</td>\n",
        "      <td>  0</td>\n",
        "      <td>  703</td>\n",
        "      <td>   2</td>\n",
        "      <td>  661</td>\n",
        "    </tr>\n",
        "    <tr>\n",
        "      <th>4</th>\n",
        "      <td> 0</td>\n",
        "      <td>  259</td>\n",
        "      <td> 85</td>\n",
        "      <td>  408</td>\n",
        "      <td> 316</td>\n",
        "      <td> 4414</td>\n",
        "    </tr>\n",
        "  </tbody>\n",
        "</table>\n",
        "</div>"
       ],
       "metadata": {},
       "output_type": "pyout",
       "prompt_number": 19,
       "text": [
        "Taxon  Location  Actinobacteria  Bacteroidetes  Firmicutes  Other  \\\n",
        "0             0            1590             67         136    195   \n",
        "1             1               4              0        4182     18   \n",
        "2             0              25              0        1174     42   \n",
        "3             1               2              0         703      2   \n",
        "4             0             259             85         408    316   \n",
        "\n",
        "Taxon  Proteobacteria  \n",
        "0                2469  \n",
        "1                1821  \n",
        "2                 839  \n",
        "3                 661  \n",
        "4                4414  "
       ]
      }
     ],
     "prompt_number": 19
    },
    {
     "cell_type": "code",
     "collapsed": false,
     "input": [
      "from sklearn.decomposition import PCA\n",
      "from itertools import cycle\n",
      "\n",
      "pca = PCA(n_components=2, whiten=True).fit(X)\n",
      "X_pca = pca.transform(X)\n",
      "\n",
      "def plot_2D(data, target, target_names):\n",
      "    colors = cycle('rgbcmykw')\n",
      "    target_ids = range(len(target_names))\n",
      "    plt.figure()\n",
      "    for i, c, label in zip(target_ids, colors, target_names):\n",
      "        plt.scatter(data[target == i, 0], data[target == i, 1],\n",
      "                   c=c, label=label)\n",
      "    plt.legend()"
     ],
     "language": "python",
     "metadata": {},
     "outputs": [],
     "prompt_number": 20
    },
    {
     "cell_type": "code",
     "collapsed": false,
     "input": [
      "plot_2D(X_pca, y, ['Tissue', 'Stool'])"
     ],
     "language": "python",
     "metadata": {},
     "outputs": [
      {
       "metadata": {},
       "output_type": "display_data",
       "png": "[encoded data removed]",
       "text": [
        "<matplotlib.figure.Figure at 0x106bfc790>"
       ]
      }
     ],
     "prompt_number": 21
    },
    {
     "cell_type": "code",
     "collapsed": false,
     "input": [
      "km_microbiome = KMeans(n_clusters=2, random_state=rng)\n",
      "km_microbiome.fit(X_pca)"
     ],
     "language": "python",
     "metadata": {},
     "outputs": [
      {
       "metadata": {},
       "output_type": "pyout",
       "prompt_number": 22,
       "text": [
        "KMeans(copy_x=True, init='k-means++', max_iter=300, n_clusters=2, n_init=10,\n",
        "    n_jobs=1, precompute_distances=True,\n",
        "    random_state=<mtrand.RandomState object at 0x103e5e9a8>, tol=0.0001,\n",
        "    verbose=0)"
       ]
      }
     ],
     "prompt_number": 22
    },
    {
     "cell_type": "code",
     "collapsed": false,
     "input": [
      "np.round(km_microbiome.cluster_centers_, decimals=2)"
     ],
     "language": "python",
     "metadata": {},
     "outputs": [
      {
       "metadata": {},
       "output_type": "pyout",
       "prompt_number": 23,
       "text": [
        "array([[-0.34, -0.38],\n",
        "       [ 1.01,  1.14]])"
       ]
      }
     ],
     "prompt_number": 23
    },
    {
     "cell_type": "code",
     "collapsed": false,
     "input": [
      "km_microbiome.labels_"
     ],
     "language": "python",
     "metadata": {},
     "outputs": [
      {
       "metadata": {},
       "output_type": "pyout",
       "prompt_number": 24,
       "text": [
        "array([0, 1, 0, 0, 0, 1, 0, 1, 0, 0, 0, 0, 0, 0, 0, 0, 0, 1, 0, 0, 1, 1, 0,\n",
        "       0, 0, 0, 0, 1], dtype=int32)"
       ]
      }
     ],
     "prompt_number": 24
    },
    {
     "cell_type": "code",
     "collapsed": false,
     "input": [
      "plot_2D(X_pca, km_microbiome.labels_, [\"c1\", \"c2\"])"
     ],
     "language": "python",
     "metadata": {},
     "outputs": [
      {
       "metadata": {},
       "output_type": "display_data",
       "png": "[encoded data removed]",
       "text": [
        "<matplotlib.figure.Figure at 0x1050633d0>"
       ]
      }
     ],
     "prompt_number": 25
    },
    {
     "cell_type": "markdown",
     "metadata": {},
     "source": [
      "`scikit-learn` includes a suite of well-known clustering algorithms. Like most unsupervised learning models in the scikit, they expect the data to be clustered to have the shape `(n_samples, n_features)`:\n",
      "\n",
      "- `sklearn.cluster.KMeans`\n",
      ": The simplest, yet effective clustering algorithm. Needs to be provided with the\n",
      "number of clusters in advance, and assumes that the data is normalized as input\n",
      "(but use a PCA model as preprocessor).\n",
      "- `sklearn.cluster.MeanShift`\n",
      ": Can find better looking clusters than KMeans but is not scalable to high number of samples.\n",
      "- `sklearn.cluster.DBSCAN`\n",
      ": Can detect irregularly shaped clusters based on density, i.e. sparse regions in\n",
      "the input space are likely to become inter-cluster boundaries. Can also detect\n",
      "outliers (samples that are not part of a cluster)."
     ]
    },
    {
     "cell_type": "markdown",
     "metadata": {},
     "source": [
      "## Exercise: NEC\n",
      "\n",
      "If all the odd-numbered patients are healthy controls and the even-numbered patients have necrotizing enterocolitis (NEC), see if either the tissue or stool samples cluster according to group status."
     ]
    },
    {
     "cell_type": "code",
     "collapsed": false,
     "input": [
      "## Write answer here"
     ],
     "language": "python",
     "metadata": {},
     "outputs": [],
     "prompt_number": 26
    },
    {
     "cell_type": "markdown",
     "metadata": {},
     "source": [
      "## Exercise: clustering baseball statistics\n",
      "\n",
      "We can use clustering to try to find interesting groupings among sets of baseball statistics. Load the baseball dataset and run a clustering algorithm on the set of three statistics:\n",
      "\n",
      "* hit rate: hits / at bats\n",
      "* strikeout rate: strikeouts / at bats\n",
      "* walk rate: bases on balls /at bats\n",
      "\n",
      "You should probably set a minimum number of at bats to qualify for the analysis, since there are pitchers that get only a handful of at bats each year.\n",
      "\n",
      "Since we are clustering in 3 dimensions, you can visualize the output as a series of pairwise plots."
     ]
    },
    {
     "cell_type": "code",
     "collapsed": false,
     "input": [
      "import pandas as pd\n",
      "\n",
      "baseball = pd.read_csv(\"../data/baseball.csv\", index_col=0)\n",
      "baseball.head()"
     ],
     "language": "python",
     "metadata": {},
     "outputs": [
      {
       "html": [
        "<pre>\n",
        "&lt;class 'pandas.core.frame.DataFrame'&gt;\n",
        "Int64Index: 5 entries, 88641 to 88650\n",
        "Data columns (total 22 columns):\n",
        "player    5  non-null values\n",
        "year      5  non-null values\n",
        "stint     5  non-null values\n",
        "team      5  non-null values\n",
        "lg        5  non-null values\n",
        "g         5  non-null values\n",
        "ab        5  non-null values\n",
        "r         5  non-null values\n",
        "h         5  non-null values\n",
        "X2b       5  non-null values\n",
        "X3b       5  non-null values\n",
        "hr        5  non-null values\n",
        "rbi       5  non-null values\n",
        "sb        5  non-null values\n",
        "cs        5  non-null values\n",
        "bb        5  non-null values\n",
        "so        5  non-null values\n",
        "ibb       5  non-null values\n",
        "hbp       5  non-null values\n",
        "sh        5  non-null values\n",
        "sf        5  non-null values\n",
        "gidp      5  non-null values\n",
        "dtypes: float64(9), int64(10), object(3)\n",
        "</pre>"
       ],
       "metadata": {},
       "output_type": "pyout",
       "prompt_number": 27,
       "text": [
        "<class 'pandas.core.frame.DataFrame'>\n",
        "Int64Index: 5 entries, 88641 to 88650\n",
        "Data columns (total 22 columns):\n",
        "player    5  non-null values\n",
        "year      5  non-null values\n",
        "stint     5  non-null values\n",
        "team      5  non-null values\n",
        "lg        5  non-null values\n",
        "g         5  non-null values\n",
        "ab        5  non-null values\n",
        "r         5  non-null values\n",
        "h         5  non-null values\n",
        "X2b       5  non-null values\n",
        "X3b       5  non-null values\n",
        "hr        5  non-null values\n",
        "rbi       5  non-null values\n",
        "sb        5  non-null values\n",
        "cs        5  non-null values\n",
        "bb        5  non-null values\n",
        "so        5  non-null values\n",
        "ibb       5  non-null values\n",
        "hbp       5  non-null values\n",
        "sh        5  non-null values\n",
        "sf        5  non-null values\n",
        "gidp      5  non-null values\n",
        "dtypes: float64(9), int64(10), object(3)"
       ]
      }
     ],
     "prompt_number": 27
    },
    {
     "cell_type": "code",
     "collapsed": false,
     "input": [
      "%load ../examples/baseball_cluster.py"
     ],
     "language": "python",
     "metadata": {},
     "outputs": []
    },
    {
     "cell_type": "markdown",
     "metadata": {},
     "source": [
      "---"
     ]
    },
    {
     "cell_type": "code",
     "collapsed": false,
     "input": [
      "from IPython.core.display import HTML\n",
      "def css_styling():\n",
      "    styles = open(\"styles/custom.css\", \"r\").read()\n",
      "    return HTML(styles)\n",
      "css_styling()"
     ],
     "language": "python",
     "metadata": {},
     "outputs": [
      {
       "html": [
        "<style>\n",
        "    @font-face {\n",
        "        font-family: \"Computer Modern\";\n",
        "        src: url('http://mirrors.ctan.org/fonts/cm-unicode/fonts/otf/cmunss.otf');\n",
        "    }\n",
        "    div.cell{\n",
        "        width: 90%;\n",
        "/*        margin-left:auto;*/\n",
        "/*        margin-right:auto;*/\n",
        "    }\n",
        "    ul {\n",
        "        line-height: 145%;\n",
        "        font-size: 90%;\n",
        "    }\n",
        "    li {\n",
        "        margin-bottom: 1em;\n",
        "    }\n",
        "    h1 {\n",
        "        font-family: Helvetica, serif;\n",
        "    }\n",
        "    h4{\n",
        "        margin-top: 12px;\n",
        "        margin-bottom: 3px;\n",
        "       }\n",
        "    div.text_cell_render{\n",
        "        font-family: Computer Modern, \"Helvetica Neue\", Arial, Helvetica, Geneva, sans-serif;\n",
        "        line-height: 145%;\n",
        "        font-size: 130%;\n",
        "        width: 90%;\n",
        "        margin-left:auto;\n",
        "        margin-right:auto;\n",
        "    }\n",
        "    .CodeMirror{\n",
        "            font-family: \"Source Code Pro\", source-code-pro,Consolas, monospace;\n",
        "    }\n",
        "/*    .prompt{\n",
        "        display: None;\n",
        "    }*/\n",
        "    .text_cell_render h5 {\n",
        "        font-weight: 300;\n",
        "        font-size: 16pt;\n",
        "        color: #4057A1;\n",
        "        font-style: italic;\n",
        "        margin-bottom: 0.5em;\n",
        "        margin-top: 0.5em;\n",
        "        display: block;\n",
        "    }\n",
        "\n",
        "    .warning{\n",
        "        color: rgb( 240, 20, 20 )\n",
        "        }\n",
        "</style>\n",
        "<script>\n",
        "    MathJax.Hub.Config({\n",
        "                        TeX: {\n",
        "                           extensions: [\"AMSmath.js\"]\n",
        "                           },\n",
        "                tex2jax: {\n",
        "                    inlineMath: [ ['$','$'], [\"\\\\(\",\"\\\\)\"] ],\n",
        "                    displayMath: [ ['$$','$$'], [\"\\\\[\",\"\\\\]\"] ]\n",
        "                },\n",
        "                displayAlign: 'center', // Change this to 'center' to center equations.\n",
        "                \"HTML-CSS\": {\n",
        "                    styles: {'.MathJax_Display': {\"margin\": 4}}\n",
        "                }\n",
        "        });\n",
        "</script>"
       ],
       "metadata": {},
       "output_type": "pyout",
       "prompt_number": 28,
       "text": [
        "<IPython.core.display.HTML at 0x106bfcdd0>"
       ]
      }
     ],
     "prompt_number": 28
    }
   ],
   "metadata": {}
  }
 ]
}