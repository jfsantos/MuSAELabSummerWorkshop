{
 "metadata": {
  "name": "",
  "signature": "sha256:69e9b064cee5fbaf58025e68e2eb46075afa109e59d6770176450c5647c62984"
 },
 "nbformat": 3,
 "nbformat_minor": 0,
 "worksheets": [
  {
   "cells": [
    {
     "cell_type": "markdown",
     "metadata": {},
     "source": [
      "First version\n",
      "-------------\n",
      "\n",
      "Our experiment is simple: we want to load a dataset, train an SVM using half of the samples, test it with the other half, and report accuracy."
     ]
    },
    {
     "cell_type": "code",
     "collapsed": false,
     "input": [
      "import cPickle\n",
      "from sklearn import svm\n",
      "import numpy as np\n",
      "\n",
      "digits = cPickle.load(open(\"digits.pkl\"))\n",
      "X = digits.images.reshape((digits.images.shape[0], -1))\n",
      "y = digits.target\n",
      "\n",
      "idx = np.random.permutation(X.shape[0])\n",
      "Xtr = X[idx[0:len(idx)/2]]\n",
      "Xts = X[idx[(len(idx)/2):]]\n",
      "ytr = y[idx[0:len(idx)/2]]\n",
      "yts = y[idx[(len(idx)/2):]]\n",
      "\n",
      "c = svm.LinearSVC(C=1.0)\n",
      "c.fit(Xtr, ytr)\n",
      "\n",
      "y_hat = c.predict(Xts)\n",
      "\n",
      "acc = float(sum(y_hat == yts))/len(yts)\n",
      "print \"Accuracy is %1.4f\" % acc"
     ],
     "language": "python",
     "metadata": {},
     "outputs": [
      {
       "output_type": "stream",
       "stream": "stdout",
       "text": [
        "Accuracy is 0.9288\n"
       ]
      }
     ],
     "prompt_number": 60
    },
    {
     "cell_type": "markdown",
     "metadata": {},
     "source": [
      "Second version\n",
      "--------------\n",
      "\n",
      "- Fixed random seed\n",
      "- Add more descriptive names to variables\n",
      "- Split into functions (load_data, train, test)\n",
      "- Data file and hyperparameters as function parameters"
     ]
    },
    {
     "cell_type": "code",
     "collapsed": false,
     "input": [
      "import cPickle\n",
      "from sklearn import svm\n",
      "import numpy as np\n",
      "\n",
      "def load_data(path, test_size):\n",
      "    digits = cPickle.load(open(\"digits.pkl\"))\n",
      "    X = digits.images.reshape((digits.images.shape[0], -1))\n",
      "    y = digits.target\n",
      "\n",
      "    idx = np.random.permutation(X.shape[0])\n",
      "    n_train_samples = int(round(len(X)*(1-test_size)))\n",
      "    \n",
      "    X_train = X[idx[0:n_train_samples]]\n",
      "    X_test = X[idx[n_train_samples:]]\n",
      "    y_train = y[idx[0:n_train_samples]]\n",
      "    y_test = y[idx[n_train_samples:]]\n",
      "    return X_train, y_train, X_test, y_test\n",
      "\n",
      "def train(X_train, y_train, C, loss):\n",
      "    classifier = svm.LinearSVC(C=C, loss=loss)\n",
      "    classifier.fit(X_train, y_train)\n",
      "    return classifier\n",
      "\n",
      "def test(classifier, X, y):\n",
      "    y_hat = classifier.predict(X)\n",
      "    acc = float(sum(y_hat == y_test))/len(y_test)\n",
      "    return y_hat, acc\n",
      "\n",
      "# Experiment parameters\n",
      "datapath = \"digits.pkl\"\n",
      "test_size = 0.5\n",
      "svm_C = 1.0\n",
      "svm_loss = \"l2\"\n",
      "random_seed = 42\n",
      "\n",
      "np.random.seed(random_seed)\n",
      "X_train, y_train, X_test, y_test = load_data(datapath, test_size)\n",
      "classifier = train(X_train, y_train, svm_C, svm_loss)\n",
      "y_hat, acc = test(classifier, X_test, y_test)\n",
      "\n",
      "print \"Accuracy is %1.4f\" % acc"
     ],
     "language": "python",
     "metadata": {},
     "outputs": [
      {
       "output_type": "stream",
       "stream": "stdout",
       "text": [
        "Accuracy is 0.9276\n"
       ]
      }
     ],
     "prompt_number": 75
    },
    {
     "cell_type": "code",
     "collapsed": false,
     "input": [
      "from svm_digits import *\n",
      "import itertools, cPickle\n",
      "\n",
      "# Fixed parameters (across all experiments)\n",
      "datapath = \"digits.pkl\"\n",
      "test_size = 0.5\n",
      "random_seed = 42\n",
      "\n",
      "data = load_data(datapath, test_size, random_seed)\n",
      "\n",
      "# Hyperparameter optimization\n",
      "svm_C = [0.1, 0.5, 1.0]\n",
      "svm_loss = [\"l2\", \"l1\"]\n",
      "\n",
      "experiments = []\n",
      "\n",
      "for C, loss in itertools.product(svm_C, svm_loss):\n",
      "    exp = {}\n",
      "    exp['C'] = C\n",
      "    exp['loss'] = loss\n",
      "    y_hat, acc = run_experiment(random_seed, data, C, loss) \n",
      "    exp['acc'] = acc\n",
      "    experiments.append(exp)\n",
      "    \n",
      "cPickle.dump(experiments, open(\"results_hyperopt.pkl\", \"w\"))\n",
      "    "
     ],
     "language": "python",
     "metadata": {},
     "outputs": [],
     "prompt_number": 1
    },
    {
     "cell_type": "code",
     "collapsed": false,
     "input": [
      "experiments"
     ],
     "language": "python",
     "metadata": {},
     "outputs": [
      {
       "metadata": {},
       "output_type": "pyout",
       "prompt_number": 2,
       "text": [
        "[{'C': 0.1, 'acc': 0.9342984409799554, 'loss': 'l2'},\n",
        " {'C': 0.1, 'acc': 0.9220489977728286, 'loss': 'l1'},\n",
        " {'C': 0.5, 'acc': 0.9265033407572383, 'loss': 'l2'},\n",
        " {'C': 0.5, 'acc': 0.9242761692650334, 'loss': 'l1'},\n",
        " {'C': 1.0, 'acc': 0.920935412026726, 'loss': 'l2'},\n",
        " {'C': 1.0, 'acc': 0.9242761692650334, 'loss': 'l1'}]"
       ]
      }
     ],
     "prompt_number": 2
    },
    {
     "cell_type": "code",
     "collapsed": false,
     "input": [
      "# Don't repeat others: sklearn has function to split dataset! \n",
      "from sklearn.cross_validation import train_test_split"
     ],
     "language": "python",
     "metadata": {},
     "outputs": []
    },
    {
     "cell_type": "code",
     "collapsed": false,
     "input": [],
     "language": "python",
     "metadata": {},
     "outputs": [
      {
       "metadata": {},
       "output_type": "pyout",
       "prompt_number": 71,
       "text": [
        "2"
       ]
      }
     ],
     "prompt_number": 71
    }
   ],
   "metadata": {}
  }
 ]
}