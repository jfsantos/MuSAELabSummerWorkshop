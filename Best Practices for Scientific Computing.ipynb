{
 "metadata": {
  "name": "",
  "signature": "sha256:6868c45561fb93a8eb9c5364c178fd0c694b54ccfa2530f08a4476a9e1386c15"
 },
 "nbformat": 3,
 "nbformat_minor": 0,
 "worksheets": [
  {
   "cells": [
    {
     "cell_type": "markdown",
     "metadata": {
      "slideshow": {
       "slide_type": "slide"
      }
     },
     "source": [
      "Best Practices for Scientific Computing\n",
      "---------------------------------------\n",
      "\n",
      "_(Based on the [paper](http://www.plosbiology.org/article/info%3Adoi%2F10.1371%2Fjournal.pbio.1001745) by Greg Wilson et al. and a [presentation](https://github.com/UW-Madison-ACI/boot-camps/blob/2014-08-04-Davidson/BestPractices.pdf?raw=true) by Paul Wilson, which are works under the [Creative Commons Attribution License](https://creativecommons.org/licenses/by/3.0/))_"
     ]
    },
    {
     "cell_type": "markdown",
     "metadata": {
      "slideshow": {
       "slide_type": "slide"
      }
     },
     "source": [
      "- As scientists, we spend an enormous amount of our time building and using software...\n",
      "- ...but usually, nobody has taught us how to do this efficiently!\n",
      "- We are unaware of many tools and practices that would make our life easier.\n",
      "- Using such tools/practices allows writing more reliable and maintainable code."
     ]
    },
    {
     "cell_type": "heading",
     "level": 2,
     "metadata": {
      "slideshow": {
       "slide_type": "slide"
      }
     },
     "source": [
      "Write programs for people, not computers."
     ]
    },
    {
     "cell_type": "markdown",
     "metadata": {},
     "source": [
      "- A program should not require its readers to hold more than a handful of facts in memory at once.\n",
      "- Make names consistent, distinctive, and meaningful.\n",
      "- Make code style and formatting consistent."
     ]
    },
    {
     "cell_type": "markdown",
     "metadata": {},
     "source": [
      "- Most researchers will spend more time reading code than writing code\n",
      "  - It\u2019s the primary way to learn what it does and how\n",
      "- Recognize realities of human cognition\n",
      "  - Working memory is limited\n",
      "  - Pattern matching abilities are finely tuned\n",
      "  - Attention span is short"
     ]
    },
    {
     "cell_type": "markdown",
     "metadata": {},
     "source": [
      "- Classic example of a single script that does everything (loads data, processes it, prints results, etc).\n",
      "- Refactor code:\n",
      "  - Split into functions\n",
      "  - Remove magic numbers and non-distinctive variable names"
     ]
    },
    {
     "cell_type": "heading",
     "level": 2,
     "metadata": {
      "slideshow": {
       "slide_type": "slide"
      }
     },
     "source": [
      "Let the computer do the work."
     ]
    },
    {
     "cell_type": "markdown",
     "metadata": {},
     "source": [
      "- Make the computer repeat tasks and save recent commands in a file for re-use.\n",
      "- Use a build tool to automate workflows (not covered in this workshop, but give some pointers).\n",
      "- Record automatically everything needed to recreate the output\n",
      "  - unique identifiers and version numbers for software, libraries, and data\n",
      "  - values of parameters used to generate any given output"
     ]
    },
    {
     "cell_type": "markdown",
     "metadata": {},
     "source": [
      "- Automate Repetitive Tasks\n",
      "  - This is why we invented computers!!\n",
      "  - It\u2019s not why we invented graduate students (seriously?)\n",
      "- Saves time & avoids errors\n",
      "- Can track dependencies\n",
      "- Unambiguous record of workflow\n",
      "- Motivates command-line interfaces"
     ]
    },
    {
     "cell_type": "markdown",
     "metadata": {},
     "source": [
      "- Keep working on previous example, by:\n",
      "    - Writing a script that uses previous example as a module and calls it.\n",
      "    - Make it save all results to files.\n",
      "    - Write function to output results."
     ]
    },
    {
     "cell_type": "heading",
     "level": 2,
     "metadata": {
      "slideshow": {
       "slide_type": "slide"
      }
     },
     "source": [
      "Make incremental changes."
     ]
    },
    {
     "cell_type": "markdown",
     "metadata": {},
     "source": [
      "- Do not write 2000 lines of code without testing it.\n",
      "  - Again, easier with modular code!\n",
      "- Use a version control system to manage snapshots of code iterations.\n",
      "  - More about this in our Git session."
     ]
    },
    {
     "cell_type": "heading",
     "level": 2,
     "metadata": {
      "slideshow": {
       "slide_type": "slide"
      }
     },
     "source": [
      "Don't repeat yourself (or others)."
     ]
    },
    {
     "cell_type": "markdown",
     "metadata": {},
     "source": [
      "- Don't repeat yourself:\n",
      "  - Easier when you have modular code!\n",
      "  - **NEVER** copy and paste code.\n",
      "- Don't repeat others:\n",
      "  - Using 3rd party libraries"
     ]
    },
    {
     "cell_type": "heading",
     "level": 2,
     "metadata": {
      "slideshow": {
       "slide_type": "slide"
      }
     },
     "source": [
      "Plan for mistakes."
     ]
    },
    {
     "cell_type": "markdown",
     "metadata": {},
     "source": [
      "- Add assertions to programs to check their operation (making them crash if something is wrong is better than having the wrong results!).\n",
      "- Use an off-the-shelf testing library (give a Python example using unittest or nose)\n",
      "- Turn bugs into test cases (show how to do that in unittest or nose)\n",
      "- Use a symbolic debugger (interactive mode - MATLAB users are usually familiar with this type of debugging)"
     ]
    },
    {
     "cell_type": "heading",
     "level": 2,
     "metadata": {
      "slideshow": {
       "slide_type": "slide"
      }
     },
     "source": [
      "Optimize software only after it works correctly."
     ]
    },
    {
     "cell_type": "markdown",
     "metadata": {},
     "source": [
      "- Use a profiler to identify bottlenecks\n",
      "- Write code in the highest-level language possible (and shift to low-level languages or special tools/libraries to accelerate if needed)"
     ]
    },
    {
     "cell_type": "heading",
     "level": 2,
     "metadata": {
      "slideshow": {
       "slide_type": "slide"
      }
     },
     "source": [
      "Document design and purpose, not mechanics."
     ]
    },
    {
     "cell_type": "markdown",
     "metadata": {},
     "source": [
      "- Document interfaces and reasons, not implementations.\n",
      "  - Show example of bad documentation (e.g., explaining what the code does, not what is expected from it)\n",
      "  - Classic: i = i+1 # increment i by one\n",
      "- Refactor code in preference to explaining how it works\n",
      "  - If you need two paragraphs to understand a line of code, it's probably not good code.\n",
      "- Embed the documentation for a piece of software in that software\n",
      "  - Nice examples for Python: IPython notebook (good for experiments) and Sphinx (good for libraries/modules)."
     ]
    },
    {
     "cell_type": "heading",
     "level": 2,
     "metadata": {
      "slideshow": {
       "slide_type": "slide"
      }
     },
     "source": [
      "Collaborate."
     ]
    },
    {
     "cell_type": "markdown",
     "metadata": {
      "slideshow": {
       "slide_type": "slide"
      }
     },
     "source": [
      "- Use pre-merge code reviews\n",
      "- Use pair programming when bringing someone new up to speed and when tackling particularl tricky problems\n",
      "- Use an issue tracking system (like Github)\n",
      "\n",
      "...more about it in the next session!"
     ]
    }
   ],
   "metadata": {}
  }
 ]
}